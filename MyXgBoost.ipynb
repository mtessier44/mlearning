{
 "cells": [
  {
   "cell_type": "code",
   "execution_count": 22,
   "id": "4ffc4bfb",
   "metadata": {},
   "outputs": [],
   "source": [
    "# import libraries\n",
    "import boto3, re, sys, math, json, os, sagemaker, urllib.request\n",
    "from sagemaker import get_execution_role\n",
    "import numpy as np\n",
    "import pandas as pd\n",
    "import matplotlib.pyplot as plt\n",
    "from IPython.display import Image\n",
    "from IPython.display import display\n",
    "from time import gmtime, strftime\n",
    "from sagemaker.predictor import csv_serializer"
   ]
  },
  {
   "cell_type": "code",
   "execution_count": 23,
   "id": "7b53f5c4",
   "metadata": {},
   "outputs": [],
   "source": [
    "# Define IAM role\n",
    "role = get_execution_role()\n",
    "prefix = 'sagemaker/DEMO-xgboost-dm'\n",
    "my_region = boto3.session.Session().region_name # set the region of the instance"
   ]
  },
  {
   "cell_type": "code",
   "execution_count": 49,
   "id": "739c1c0e",
   "metadata": {},
   "outputs": [
    {
     "name": "stdout",
     "output_type": "stream",
     "text": [
      "Success - the MySageMakerInstance is in the us-west-2 region.\n"
     ]
    }
   ],
   "source": [
    "# this line automatically looks for the XGBoost image URI and builds an XGBoost container.\n",
    "xgboost_container = sagemaker.image_uris.retrieve(\"xgboost\", my_region, \"latest\")\n",
    "print(\"Success - the MySageMakerInstance is in the \" + my_region + \" region.\")"
   ]
  },
  {
   "cell_type": "code",
   "execution_count": 25,
   "id": "7265caf8",
   "metadata": {},
   "outputs": [
    {
     "data": {
      "text/html": [
       "<div>\n",
       "<style scoped>\n",
       "    .dataframe tbody tr th:only-of-type {\n",
       "        vertical-align: middle;\n",
       "    }\n",
       "\n",
       "    .dataframe tbody tr th {\n",
       "        vertical-align: top;\n",
       "    }\n",
       "\n",
       "    .dataframe thead th {\n",
       "        text-align: right;\n",
       "    }\n",
       "</style>\n",
       "<table border=\"1\" class=\"dataframe\">\n",
       "  <thead>\n",
       "    <tr style=\"text-align: right;\">\n",
       "      <th></th>\n",
       "      <th>time</th>\n",
       "      <th>DO</th>\n",
       "      <th>NH4</th>\n",
       "      <th>NO3</th>\n",
       "      <th>N2O</th>\n",
       "      <th>prediction</th>\n",
       "    </tr>\n",
       "  </thead>\n",
       "  <tbody>\n",
       "    <tr>\n",
       "      <th>0</th>\n",
       "      <td>2018-06-08T00:00:00.000Z</td>\n",
       "      <td>0.308</td>\n",
       "      <td>6.984</td>\n",
       "      <td>2.462</td>\n",
       "      <td>0.48</td>\n",
       "      <td>0.499747</td>\n",
       "    </tr>\n",
       "    <tr>\n",
       "      <th>1</th>\n",
       "      <td>2018-06-08T00:15:00.000Z</td>\n",
       "      <td>0.298</td>\n",
       "      <td>7.565</td>\n",
       "      <td>2.623</td>\n",
       "      <td>0.45</td>\n",
       "      <td>0.499747</td>\n",
       "    </tr>\n",
       "    <tr>\n",
       "      <th>2</th>\n",
       "      <td>2018-06-08T00:30:00.000Z</td>\n",
       "      <td>0.210</td>\n",
       "      <td>7.487</td>\n",
       "      <td>2.615</td>\n",
       "      <td>0.46</td>\n",
       "      <td>0.499747</td>\n",
       "    </tr>\n",
       "    <tr>\n",
       "      <th>3</th>\n",
       "      <td>2018-06-08T00:45:00.000Z</td>\n",
       "      <td>0.205</td>\n",
       "      <td>7.902</td>\n",
       "      <td>2.762</td>\n",
       "      <td>0.51</td>\n",
       "      <td>0.499747</td>\n",
       "    </tr>\n",
       "    <tr>\n",
       "      <th>4</th>\n",
       "      <td>2018-06-08T01:00:00.000Z</td>\n",
       "      <td>0.347</td>\n",
       "      <td>7.829</td>\n",
       "      <td>2.762</td>\n",
       "      <td>0.47</td>\n",
       "      <td>0.499747</td>\n",
       "    </tr>\n",
       "  </tbody>\n",
       "</table>\n",
       "</div>"
      ],
      "text/plain": [
       "                       time     DO    NH4    NO3   N2O  prediction\n",
       "0  2018-06-08T00:00:00.000Z  0.308  6.984  2.462  0.48    0.499747\n",
       "1  2018-06-08T00:15:00.000Z  0.298  7.565  2.623  0.45    0.499747\n",
       "2  2018-06-08T00:30:00.000Z  0.210  7.487  2.615  0.46    0.499747\n",
       "3  2018-06-08T00:45:00.000Z  0.205  7.902  2.762  0.51    0.499747\n",
       "4  2018-06-08T01:00:00.000Z  0.347  7.829  2.762  0.47    0.499747"
      ]
     },
     "execution_count": 25,
     "metadata": {},
     "output_type": "execute_result"
    }
   ],
   "source": [
    "model_data = pd.read_csv('DEMO.csv')\n",
    "model_data.head()"
   ]
  },
  {
   "cell_type": "code",
   "execution_count": 26,
   "id": "f9817b63",
   "metadata": {},
   "outputs": [
    {
     "data": {
      "text/html": [
       "<div>\n",
       "<style scoped>\n",
       "    .dataframe tbody tr th:only-of-type {\n",
       "        vertical-align: middle;\n",
       "    }\n",
       "\n",
       "    .dataframe tbody tr th {\n",
       "        vertical-align: top;\n",
       "    }\n",
       "\n",
       "    .dataframe thead th {\n",
       "        text-align: right;\n",
       "    }\n",
       "</style>\n",
       "<table border=\"1\" class=\"dataframe\">\n",
       "  <thead>\n",
       "    <tr style=\"text-align: right;\">\n",
       "      <th></th>\n",
       "      <th>time</th>\n",
       "      <th>DO</th>\n",
       "      <th>NH4</th>\n",
       "      <th>NO3</th>\n",
       "      <th>N2O</th>\n",
       "    </tr>\n",
       "  </thead>\n",
       "  <tbody>\n",
       "    <tr>\n",
       "      <th>0</th>\n",
       "      <td>2018-06-08T00:00:00.000Z</td>\n",
       "      <td>0.308</td>\n",
       "      <td>6.984</td>\n",
       "      <td>2.462</td>\n",
       "      <td>0.48</td>\n",
       "    </tr>\n",
       "    <tr>\n",
       "      <th>1</th>\n",
       "      <td>2018-06-08T00:15:00.000Z</td>\n",
       "      <td>0.298</td>\n",
       "      <td>7.565</td>\n",
       "      <td>2.623</td>\n",
       "      <td>0.45</td>\n",
       "    </tr>\n",
       "    <tr>\n",
       "      <th>2</th>\n",
       "      <td>2018-06-08T00:30:00.000Z</td>\n",
       "      <td>0.210</td>\n",
       "      <td>7.487</td>\n",
       "      <td>2.615</td>\n",
       "      <td>0.46</td>\n",
       "    </tr>\n",
       "    <tr>\n",
       "      <th>3</th>\n",
       "      <td>2018-06-08T00:45:00.000Z</td>\n",
       "      <td>0.205</td>\n",
       "      <td>7.902</td>\n",
       "      <td>2.762</td>\n",
       "      <td>0.51</td>\n",
       "    </tr>\n",
       "    <tr>\n",
       "      <th>4</th>\n",
       "      <td>2018-06-08T01:00:00.000Z</td>\n",
       "      <td>0.347</td>\n",
       "      <td>7.829</td>\n",
       "      <td>2.762</td>\n",
       "      <td>0.47</td>\n",
       "    </tr>\n",
       "  </tbody>\n",
       "</table>\n",
       "</div>"
      ],
      "text/plain": [
       "                       time     DO    NH4    NO3   N2O\n",
       "0  2018-06-08T00:00:00.000Z  0.308  6.984  2.462  0.48\n",
       "1  2018-06-08T00:15:00.000Z  0.298  7.565  2.623  0.45\n",
       "2  2018-06-08T00:30:00.000Z  0.210  7.487  2.615  0.46\n",
       "3  2018-06-08T00:45:00.000Z  0.205  7.902  2.762  0.51\n",
       "4  2018-06-08T01:00:00.000Z  0.347  7.829  2.762  0.47"
      ]
     },
     "execution_count": 26,
     "metadata": {},
     "output_type": "execute_result"
    }
   ],
   "source": [
    "#prepare the data\n",
    "model_data.drop('prediction', inplace=True, axis=1)\n",
    "model_data.head()"
   ]
  },
  {
   "cell_type": "code",
   "execution_count": 27,
   "id": "499f372d",
   "metadata": {},
   "outputs": [
    {
     "name": "stdout",
     "output_type": "stream",
     "text": [
      "(453, 5) (195, 5)\n"
     ]
    }
   ],
   "source": [
    "train_data, test_data = np.split(model_data.sample(frac=1, random_state=1729), [int(0.7 * len(model_data))])\n",
    "print(train_data.shape, test_data.shape)"
   ]
  },
  {
   "cell_type": "code",
   "execution_count": 28,
   "id": "37bf4872",
   "metadata": {},
   "outputs": [],
   "source": [
    "bucket_name = 'bnvina-sagemaker-us-west-2' "
   ]
  },
  {
   "cell_type": "markdown",
   "id": "ae3e4c9f",
   "metadata": {},
   "source": [
    "# Model - 1\n",
    "### without time field"
   ]
  },
  {
   "cell_type": "code",
   "execution_count": 35,
   "id": "73a20860",
   "metadata": {},
   "outputs": [],
   "source": [
    "pd.concat([model_data['N2O'], model_data.drop(['time', 'N2O'], axis=1)], axis=1).to_csv('train.csv', index=False, header=False)\n",
    "boto3.Session().resource('s3').Bucket(bucket_name).Object(os.path.join(prefix, 'train/train.csv')).upload_file('train.csv')\n",
    "s3_input_train = sagemaker.inputs.TrainingInput(s3_data='s3://{}/{}/train'.format(bucket_name, prefix), content_type='csv')"
   ]
  },
  {
   "cell_type": "code",
   "execution_count": 36,
   "id": "adb46097",
   "metadata": {},
   "outputs": [],
   "source": [
    "sess = sagemaker.Session()\n",
    "xgb = sagemaker.estimator.Estimator(xgboost_container,role, instance_count=1, instance_type='ml.m4.xlarge',output_path='s3://{}/{}/output'.format(bucket_name, prefix),sagemaker_session=sess)\n",
    "xgb.set_hyperparameters(max_depth=5,eta=0.2,gamma=4,min_child_weight=6,subsample=0.8,silent=0,objective='binary:logistic',num_round=100)"
   ]
  },
  {
   "cell_type": "code",
   "execution_count": 37,
   "id": "2a55311a",
   "metadata": {},
   "outputs": [
    {
     "name": "stdout",
     "output_type": "stream",
     "text": [
      "2021-07-05 11:06:36 Starting - Starting the training job...\n",
      "2021-07-05 11:06:59 Starting - Launching requested ML instancesProfilerReport-1625483196: InProgress\n",
      "...\n",
      "2021-07-05 11:07:30 Starting - Preparing the instances for training.........\n",
      "2021-07-05 11:09:00 Downloading - Downloading input data......\n",
      "2021-07-05 11:10:00 Training - Downloading the training image.\u001b[34mArguments: train\u001b[0m\n",
      "\u001b[34m[2021-07-05:11:10:10:INFO] Running standalone xgboost training.\u001b[0m\n",
      "\u001b[34m[2021-07-05:11:10:10:INFO] Path /opt/ml/input/data/validation does not exist!\u001b[0m\n",
      "\u001b[34m[2021-07-05:11:10:10:INFO] File size need to be processed in the node: 0.03mb. Available memory size in the node: 8415.68mb\u001b[0m\n",
      "\u001b[34m[2021-07-05:11:10:10:INFO] Determined delimiter of CSV input is ','\u001b[0m\n",
      "\u001b[34m[11:10:10] S3DistributionType set as FullyReplicated\u001b[0m\n",
      "\u001b[34m[11:10:10] 648x4 matrix with 2592 entries loaded from /opt/ml/input/data/train?format=csv&label_column=0&delimiter=,\u001b[0m\n",
      "\u001b[34m[11:10:10] src/tree/updater_prune.cc:74: tree pruning end, 1 roots, 4 extra nodes, 12 pruned nodes, max_depth=2\u001b[0m\n",
      "\u001b[34m[0]#011train-error:0.373981\u001b[0m\n",
      "\u001b[34m[11:10:10] src/tree/updater_prune.cc:74: tree pruning end, 1 roots, 2 extra nodes, 16 pruned nodes, max_depth=1\u001b[0m\n",
      "\u001b[34m[1]#011train-error:0.373981\u001b[0m\n",
      "\u001b[34m[11:10:10] src/tree/updater_prune.cc:74: tree pruning end, 1 roots, 2 extra nodes, 18 pruned nodes, max_depth=1\u001b[0m\n",
      "\u001b[34m[2]#011train-error:0.373981\u001b[0m\n",
      "\u001b[34m[11:10:10] src/tree/updater_prune.cc:74: tree pruning end, 1 roots, 2 extra nodes, 20 pruned nodes, max_depth=1\u001b[0m\n",
      "\u001b[34m[3]#011train-error:0.373981\u001b[0m\n",
      "\u001b[34m[11:10:10] src/tree/updater_prune.cc:74: tree pruning end, 1 roots, 2 extra nodes, 18 pruned nodes, max_depth=1\u001b[0m\n",
      "\u001b[34m[4]#011train-error:0.373981\u001b[0m\n",
      "\u001b[34m[11:10:10] src/tree/updater_prune.cc:74: tree pruning end, 1 roots, 2 extra nodes, 20 pruned nodes, max_depth=1\u001b[0m\n",
      "\u001b[34m[5]#011train-error:0.373981\u001b[0m\n",
      "\u001b[34m[11:10:10] src/tree/updater_prune.cc:74: tree pruning end, 1 roots, 2 extra nodes, 22 pruned nodes, max_depth=1\u001b[0m\n",
      "\u001b[34m[6]#011train-error:0.373981\u001b[0m\n",
      "\u001b[34m[11:10:10] src/tree/updater_prune.cc:74: tree pruning end, 1 roots, 2 extra nodes, 18 pruned nodes, max_depth=1\u001b[0m\n",
      "\u001b[34m[7]#011train-error:0.373981\u001b[0m\n",
      "\u001b[34m[11:10:10] src/tree/updater_prune.cc:74: tree pruning end, 1 roots, 2 extra nodes, 22 pruned nodes, max_depth=1\u001b[0m\n",
      "\u001b[34m[8]#011train-error:0.373981\u001b[0m\n",
      "\u001b[34m[11:10:10] src/tree/updater_prune.cc:74: tree pruning end, 1 roots, 2 extra nodes, 16 pruned nodes, max_depth=1\u001b[0m\n",
      "\u001b[34m[9]#011train-error:0.373981\u001b[0m\n",
      "\u001b[34m[11:10:10] src/tree/updater_prune.cc:74: tree pruning end, 1 roots, 0 extra nodes, 22 pruned nodes, max_depth=0\u001b[0m\n",
      "\u001b[34m[10]#011train-error:0.373981\u001b[0m\n",
      "\u001b[34m[11:10:10] src/tree/updater_prune.cc:74: tree pruning end, 1 roots, 2 extra nodes, 16 pruned nodes, max_depth=1\u001b[0m\n",
      "\u001b[34m[11]#011train-error:0.373981\u001b[0m\n",
      "\u001b[34m[11:10:10] src/tree/updater_prune.cc:74: tree pruning end, 1 roots, 0 extra nodes, 22 pruned nodes, max_depth=0\u001b[0m\n",
      "\u001b[34m[12]#011train-error:0.373981\u001b[0m\n",
      "\u001b[34m[11:10:10] src/tree/updater_prune.cc:74: tree pruning end, 1 roots, 0 extra nodes, 28 pruned nodes, max_depth=0\u001b[0m\n",
      "\u001b[34m[13]#011train-error:0.373981\u001b[0m\n",
      "\u001b[34m[11:10:10] src/tree/updater_prune.cc:74: tree pruning end, 1 roots, 0 extra nodes, 20 pruned nodes, max_depth=0\u001b[0m\n",
      "\u001b[34m[14]#011train-error:0.373981\u001b[0m\n",
      "\u001b[34m[11:10:10] src/tree/updater_prune.cc:74: tree pruning end, 1 roots, 0 extra nodes, 22 pruned nodes, max_depth=0\u001b[0m\n",
      "\u001b[34m[15]#011train-error:0.373981\u001b[0m\n",
      "\u001b[34m[11:10:10] src/tree/updater_prune.cc:74: tree pruning end, 1 roots, 0 extra nodes, 22 pruned nodes, max_depth=0\u001b[0m\n",
      "\u001b[34m[16]#011train-error:0.373981\u001b[0m\n",
      "\u001b[34m[11:10:10] src/tree/updater_prune.cc:74: tree pruning end, 1 roots, 0 extra nodes, 20 pruned nodes, max_depth=0\u001b[0m\n",
      "\u001b[34m[17]#011train-error:0.373981\u001b[0m\n",
      "\u001b[34m[11:10:10] src/tree/updater_prune.cc:74: tree pruning end, 1 roots, 0 extra nodes, 26 pruned nodes, max_depth=0\u001b[0m\n",
      "\u001b[34m[18]#011train-error:0.373981\u001b[0m\n",
      "\u001b[34m[11:10:10] src/tree/updater_prune.cc:74: tree pruning end, 1 roots, 0 extra nodes, 26 pruned nodes, max_depth=0\u001b[0m\n",
      "\u001b[34m[19]#011train-error:0.373981\u001b[0m\n",
      "\u001b[34m[11:10:10] src/tree/updater_prune.cc:74: tree pruning end, 1 roots, 0 extra nodes, 26 pruned nodes, max_depth=0\u001b[0m\n",
      "\u001b[34m[20]#011train-error:0.373981\u001b[0m\n",
      "\u001b[34m[11:10:10] src/tree/updater_prune.cc:74: tree pruning end, 1 roots, 0 extra nodes, 24 pruned nodes, max_depth=0\u001b[0m\n",
      "\u001b[34m[21]#011train-error:0.373981\u001b[0m\n",
      "\u001b[34m[11:10:10] src/tree/updater_prune.cc:74: tree pruning end, 1 roots, 0 extra nodes, 18 pruned nodes, max_depth=0\u001b[0m\n",
      "\u001b[34m[22]#011train-error:0.373981\u001b[0m\n",
      "\u001b[34m[11:10:10] src/tree/updater_prune.cc:74: tree pruning end, 1 roots, 0 extra nodes, 20 pruned nodes, max_depth=0\u001b[0m\n",
      "\u001b[34m[23]#011train-error:0.373981\u001b[0m\n",
      "\u001b[34m[11:10:10] src/tree/updater_prune.cc:74: tree pruning end, 1 roots, 0 extra nodes, 24 pruned nodes, max_depth=0\u001b[0m\n",
      "\u001b[34m[24]#011train-error:0.373981\u001b[0m\n",
      "\u001b[34m[11:10:10] src/tree/updater_prune.cc:74: tree pruning end, 1 roots, 0 extra nodes, 26 pruned nodes, max_depth=0\u001b[0m\n",
      "\u001b[34m[25]#011train-error:0.373981\u001b[0m\n",
      "\u001b[34m[11:10:10] src/tree/updater_prune.cc:74: tree pruning end, 1 roots, 0 extra nodes, 20 pruned nodes, max_depth=0\u001b[0m\n",
      "\u001b[34m[26]#011train-error:0.373981\u001b[0m\n",
      "\u001b[34m[11:10:10] src/tree/updater_prune.cc:74: tree pruning end, 1 roots, 0 extra nodes, 28 pruned nodes, max_depth=0\u001b[0m\n",
      "\u001b[34m[27]#011train-error:0.373981\u001b[0m\n",
      "\u001b[34m[11:10:10] src/tree/updater_prune.cc:74: tree pruning end, 1 roots, 0 extra nodes, 20 pruned nodes, max_depth=0\u001b[0m\n",
      "\u001b[34m[28]#011train-error:0.373981\u001b[0m\n",
      "\u001b[34m[11:10:10] src/tree/updater_prune.cc:74: tree pruning end, 1 roots, 0 extra nodes, 28 pruned nodes, max_depth=0\u001b[0m\n",
      "\u001b[34m[29]#011train-error:0.373981\u001b[0m\n",
      "\u001b[34m[11:10:10] src/tree/updater_prune.cc:74: tree pruning end, 1 roots, 0 extra nodes, 20 pruned nodes, max_depth=0\u001b[0m\n",
      "\u001b[34m[30]#011train-error:0.373981\u001b[0m\n",
      "\u001b[34m[11:10:10] src/tree/updater_prune.cc:74: tree pruning end, 1 roots, 0 extra nodes, 20 pruned nodes, max_depth=0\u001b[0m\n",
      "\u001b[34m[31]#011train-error:0.373981\u001b[0m\n",
      "\u001b[34m[11:10:10] src/tree/updater_prune.cc:74: tree pruning end, 1 roots, 0 extra nodes, 18 pruned nodes, max_depth=0\u001b[0m\n",
      "\u001b[34m[32]#011train-error:0.373981\u001b[0m\n",
      "\u001b[34m[11:10:10] src/tree/updater_prune.cc:74: tree pruning end, 1 roots, 0 extra nodes, 20 pruned nodes, max_depth=0\u001b[0m\n",
      "\u001b[34m[33]#011train-error:0.373981\u001b[0m\n",
      "\u001b[34m[11:10:10] src/tree/updater_prune.cc:74: tree pruning end, 1 roots, 0 extra nodes, 18 pruned nodes, max_depth=0\u001b[0m\n",
      "\u001b[34m[34]#011train-error:0.373981\u001b[0m\n",
      "\u001b[34m[11:10:10] src/tree/updater_prune.cc:74: tree pruning end, 1 roots, 0 extra nodes, 26 pruned nodes, max_depth=0\u001b[0m\n",
      "\u001b[34m[35]#011train-error:0.373981\u001b[0m\n",
      "\u001b[34m[11:10:10] src/tree/updater_prune.cc:74: tree pruning end, 1 roots, 0 extra nodes, 22 pruned nodes, max_depth=0\u001b[0m\n",
      "\u001b[34m[36]#011train-error:0.373981\u001b[0m\n",
      "\u001b[34m[11:10:10] src/tree/updater_prune.cc:74: tree pruning end, 1 roots, 0 extra nodes, 14 pruned nodes, max_depth=0\u001b[0m\n",
      "\u001b[34m[37]#011train-error:0.373981\u001b[0m\n",
      "\u001b[34m[11:10:10] src/tree/updater_prune.cc:74: tree pruning end, 1 roots, 0 extra nodes, 20 pruned nodes, max_depth=0\u001b[0m\n",
      "\u001b[34m[38]#011train-error:0.373981\u001b[0m\n",
      "\u001b[34m[11:10:10] src/tree/updater_prune.cc:74: tree pruning end, 1 roots, 0 extra nodes, 18 pruned nodes, max_depth=0\u001b[0m\n",
      "\u001b[34m[39]#011train-error:0.373981\u001b[0m\n",
      "\u001b[34m[11:10:10] src/tree/updater_prune.cc:74: tree pruning end, 1 roots, 0 extra nodes, 22 pruned nodes, max_depth=0\u001b[0m\n",
      "\u001b[34m[40]#011train-error:0.373981\u001b[0m\n",
      "\u001b[34m[11:10:10] src/tree/updater_prune.cc:74: tree pruning end, 1 roots, 0 extra nodes, 20 pruned nodes, max_depth=0\u001b[0m\n",
      "\u001b[34m[41]#011train-error:0.373981\u001b[0m\n",
      "\u001b[34m[11:10:10] src/tree/updater_prune.cc:74: tree pruning end, 1 roots, 0 extra nodes, 22 pruned nodes, max_depth=0\u001b[0m\n",
      "\u001b[34m[42]#011train-error:0.373981\u001b[0m\n",
      "\u001b[34m[11:10:10] src/tree/updater_prune.cc:74: tree pruning end, 1 roots, 0 extra nodes, 16 pruned nodes, max_depth=0\u001b[0m\n",
      "\u001b[34m[43]#011train-error:0.373981\u001b[0m\n",
      "\u001b[34m[11:10:10] src/tree/updater_prune.cc:74: tree pruning end, 1 roots, 0 extra nodes, 18 pruned nodes, max_depth=0\u001b[0m\n",
      "\u001b[34m[44]#011train-error:0.373981\u001b[0m\n",
      "\u001b[34m[11:10:10] src/tree/updater_prune.cc:74: tree pruning end, 1 roots, 0 extra nodes, 22 pruned nodes, max_depth=0\u001b[0m\n",
      "\u001b[34m[45]#011train-error:0.373981\u001b[0m\n",
      "\u001b[34m[11:10:10] src/tree/updater_prune.cc:74: tree pruning end, 1 roots, 0 extra nodes, 22 pruned nodes, max_depth=0\u001b[0m\n",
      "\u001b[34m[46]#011train-error:0.373981\u001b[0m\n",
      "\u001b[34m[11:10:10] src/tree/updater_prune.cc:74: tree pruning end, 1 roots, 0 extra nodes, 14 pruned nodes, max_depth=0\u001b[0m\n",
      "\u001b[34m[47]#011train-error:0.373981\u001b[0m\n",
      "\u001b[34m[11:10:10] src/tree/updater_prune.cc:74: tree pruning end, 1 roots, 0 extra nodes, 16 pruned nodes, max_depth=0\u001b[0m\n",
      "\u001b[34m[48]#011train-error:0.373981\u001b[0m\n",
      "\u001b[34m[11:10:10] src/tree/updater_prune.cc:74: tree pruning end, 1 roots, 0 extra nodes, 24 pruned nodes, max_depth=0\u001b[0m\n",
      "\u001b[34m[49]#011train-error:0.373981\u001b[0m\n",
      "\u001b[34m[11:10:10] src/tree/updater_prune.cc:74: tree pruning end, 1 roots, 0 extra nodes, 26 pruned nodes, max_depth=0\u001b[0m\n",
      "\u001b[34m[50]#011train-error:0.373981\u001b[0m\n",
      "\u001b[34m[11:10:10] src/tree/updater_prune.cc:74: tree pruning end, 1 roots, 0 extra nodes, 16 pruned nodes, max_depth=0\u001b[0m\n",
      "\u001b[34m[51]#011train-error:0.373981\u001b[0m\n",
      "\u001b[34m[11:10:10] src/tree/updater_prune.cc:74: tree pruning end, 1 roots, 0 extra nodes, 28 pruned nodes, max_depth=0\u001b[0m\n",
      "\u001b[34m[52]#011train-error:0.373981\u001b[0m\n",
      "\u001b[34m[11:10:10] src/tree/updater_prune.cc:74: tree pruning end, 1 roots, 0 extra nodes, 20 pruned nodes, max_depth=0\u001b[0m\n",
      "\u001b[34m[53]#011train-error:0.373981\u001b[0m\n",
      "\u001b[34m[11:10:10] src/tree/updater_prune.cc:74: tree pruning end, 1 roots, 0 extra nodes, 24 pruned nodes, max_depth=0\u001b[0m\n",
      "\u001b[34m[54]#011train-error:0.373981\u001b[0m\n",
      "\u001b[34m[11:10:10] src/tree/updater_prune.cc:74: tree pruning end, 1 roots, 0 extra nodes, 24 pruned nodes, max_depth=0\u001b[0m\n",
      "\u001b[34m[55]#011train-error:0.373981\u001b[0m\n",
      "\u001b[34m[11:10:10] src/tree/updater_prune.cc:74: tree pruning end, 1 roots, 2 extra nodes, 22 pruned nodes, max_depth=1\u001b[0m\n",
      "\u001b[34m[56]#011train-error:0.373981\u001b[0m\n",
      "\u001b[34m[11:10:10] src/tree/updater_prune.cc:74: tree pruning end, 1 roots, 0 extra nodes, 22 pruned nodes, max_depth=0\u001b[0m\n",
      "\u001b[34m[57]#011train-error:0.373981\u001b[0m\n",
      "\u001b[34m[11:10:10] src/tree/updater_prune.cc:74: tree pruning end, 1 roots, 0 extra nodes, 22 pruned nodes, max_depth=0\u001b[0m\n",
      "\u001b[34m[58]#011train-error:0.373981\u001b[0m\n",
      "\u001b[34m[11:10:10] src/tree/updater_prune.cc:74: tree pruning end, 1 roots, 0 extra nodes, 24 pruned nodes, max_depth=0\u001b[0m\n",
      "\u001b[34m[59]#011train-error:0.373981\u001b[0m\n",
      "\u001b[34m[11:10:10] src/tree/updater_prune.cc:74: tree pruning end, 1 roots, 0 extra nodes, 20 pruned nodes, max_depth=0\u001b[0m\n",
      "\u001b[34m[60]#011train-error:0.373981\u001b[0m\n",
      "\u001b[34m[11:10:10] src/tree/updater_prune.cc:74: tree pruning end, 1 roots, 0 extra nodes, 24 pruned nodes, max_depth=0\u001b[0m\n",
      "\u001b[34m[61]#011train-error:0.373981\u001b[0m\n",
      "\u001b[34m[11:10:10] src/tree/updater_prune.cc:74: tree pruning end, 1 roots, 0 extra nodes, 22 pruned nodes, max_depth=0\u001b[0m\n",
      "\u001b[34m[62]#011train-error:0.373981\u001b[0m\n",
      "\u001b[34m[11:10:10] src/tree/updater_prune.cc:74: tree pruning end, 1 roots, 0 extra nodes, 18 pruned nodes, max_depth=0\u001b[0m\n",
      "\u001b[34m[63]#011train-error:0.373981\u001b[0m\n",
      "\u001b[34m[11:10:10] src/tree/updater_prune.cc:74: tree pruning end, 1 roots, 0 extra nodes, 18 pruned nodes, max_depth=0\u001b[0m\n",
      "\u001b[34m[64]#011train-error:0.373981\u001b[0m\n",
      "\u001b[34m[11:10:10] src/tree/updater_prune.cc:74: tree pruning end, 1 roots, 0 extra nodes, 24 pruned nodes, max_depth=0\u001b[0m\n",
      "\u001b[34m[65]#011train-error:0.373981\u001b[0m\n",
      "\u001b[34m[11:10:10] src/tree/updater_prune.cc:74: tree pruning end, 1 roots, 0 extra nodes, 24 pruned nodes, max_depth=0\u001b[0m\n",
      "\u001b[34m[66]#011train-error:0.373981\u001b[0m\n",
      "\u001b[34m[11:10:10] src/tree/updater_prune.cc:74: tree pruning end, 1 roots, 0 extra nodes, 22 pruned nodes, max_depth=0\u001b[0m\n",
      "\u001b[34m[67]#011train-error:0.373981\u001b[0m\n",
      "\u001b[34m[11:10:10] src/tree/updater_prune.cc:74: tree pruning end, 1 roots, 0 extra nodes, 26 pruned nodes, max_depth=0\u001b[0m\n",
      "\u001b[34m[68]#011train-error:0.373981\u001b[0m\n",
      "\u001b[34m[11:10:10] src/tree/updater_prune.cc:74: tree pruning end, 1 roots, 0 extra nodes, 26 pruned nodes, max_depth=0\u001b[0m\n",
      "\u001b[34m[69]#011train-error:0.373981\u001b[0m\n",
      "\u001b[34m[11:10:10] src/tree/updater_prune.cc:74: tree pruning end, 1 roots, 0 extra nodes, 22 pruned nodes, max_depth=0\u001b[0m\n",
      "\u001b[34m[70]#011train-error:0.373981\u001b[0m\n",
      "\u001b[34m[11:10:10] src/tree/updater_prune.cc:74: tree pruning end, 1 roots, 0 extra nodes, 22 pruned nodes, max_depth=0\u001b[0m\n",
      "\u001b[34m[71]#011train-error:0.373981\u001b[0m\n",
      "\u001b[34m[11:10:10] src/tree/updater_prune.cc:74: tree pruning end, 1 roots, 0 extra nodes, 20 pruned nodes, max_depth=0\u001b[0m\n",
      "\u001b[34m[72]#011train-error:0.373981\u001b[0m\n",
      "\u001b[34m[11:10:10] src/tree/updater_prune.cc:74: tree pruning end, 1 roots, 0 extra nodes, 24 pruned nodes, max_depth=0\u001b[0m\n",
      "\u001b[34m[73]#011train-error:0.373981\u001b[0m\n",
      "\u001b[34m[11:10:10] src/tree/updater_prune.cc:74: tree pruning end, 1 roots, 0 extra nodes, 24 pruned nodes, max_depth=0\u001b[0m\n",
      "\u001b[34m[74]#011train-error:0.373981\u001b[0m\n",
      "\u001b[34m[11:10:10] src/tree/updater_prune.cc:74: tree pruning end, 1 roots, 0 extra nodes, 20 pruned nodes, max_depth=0\u001b[0m\n",
      "\u001b[34m[75]#011train-error:0.373981\u001b[0m\n",
      "\u001b[34m[11:10:10] src/tree/updater_prune.cc:74: tree pruning end, 1 roots, 0 extra nodes, 18 pruned nodes, max_depth=0\u001b[0m\n",
      "\u001b[34m[76]#011train-error:0.373981\u001b[0m\n",
      "\u001b[34m[11:10:10] src/tree/updater_prune.cc:74: tree pruning end, 1 roots, 0 extra nodes, 22 pruned nodes, max_depth=0\u001b[0m\n",
      "\u001b[34m[77]#011train-error:0.373981\u001b[0m\n",
      "\u001b[34m[11:10:10] src/tree/updater_prune.cc:74: tree pruning end, 1 roots, 0 extra nodes, 18 pruned nodes, max_depth=0\u001b[0m\n",
      "\u001b[34m[78]#011train-error:0.373981\u001b[0m\n",
      "\u001b[34m[11:10:10] src/tree/updater_prune.cc:74: tree pruning end, 1 roots, 0 extra nodes, 20 pruned nodes, max_depth=0\u001b[0m\n",
      "\u001b[34m[79]#011train-error:0.373981\u001b[0m\n",
      "\u001b[34m[11:10:10] src/tree/updater_prune.cc:74: tree pruning end, 1 roots, 0 extra nodes, 20 pruned nodes, max_depth=0\u001b[0m\n",
      "\u001b[34m[80]#011train-error:0.373981\u001b[0m\n",
      "\u001b[34m[11:10:10] src/tree/updater_prune.cc:74: tree pruning end, 1 roots, 0 extra nodes, 26 pruned nodes, max_depth=0\u001b[0m\n",
      "\u001b[34m[81]#011train-error:0.373981\u001b[0m\n",
      "\u001b[34m[11:10:10] src/tree/updater_prune.cc:74: tree pruning end, 1 roots, 0 extra nodes, 20 pruned nodes, max_depth=0\u001b[0m\n",
      "\u001b[34m[82]#011train-error:0.373981\u001b[0m\n",
      "\u001b[34m[11:10:10] src/tree/updater_prune.cc:74: tree pruning end, 1 roots, 0 extra nodes, 18 pruned nodes, max_depth=0\u001b[0m\n",
      "\u001b[34m[83]#011train-error:0.373981\u001b[0m\n",
      "\u001b[34m[11:10:10] src/tree/updater_prune.cc:74: tree pruning end, 1 roots, 0 extra nodes, 20 pruned nodes, max_depth=0\u001b[0m\n",
      "\u001b[34m[84]#011train-error:0.373981\u001b[0m\n",
      "\u001b[34m[11:10:10] src/tree/updater_prune.cc:74: tree pruning end, 1 roots, 0 extra nodes, 18 pruned nodes, max_depth=0\u001b[0m\n",
      "\u001b[34m[85]#011train-error:0.373981\u001b[0m\n",
      "\u001b[34m[11:10:10] src/tree/updater_prune.cc:74: tree pruning end, 1 roots, 0 extra nodes, 20 pruned nodes, max_depth=0\u001b[0m\n",
      "\u001b[34m[86]#011train-error:0.373981\u001b[0m\n",
      "\u001b[34m[11:10:10] src/tree/updater_prune.cc:74: tree pruning end, 1 roots, 0 extra nodes, 20 pruned nodes, max_depth=0\u001b[0m\n",
      "\u001b[34m[87]#011train-error:0.373981\u001b[0m\n",
      "\u001b[34m[11:10:10] src/tree/updater_prune.cc:74: tree pruning end, 1 roots, 0 extra nodes, 20 pruned nodes, max_depth=0\u001b[0m\n",
      "\u001b[34m[88]#011train-error:0.373981\u001b[0m\n",
      "\u001b[34m[11:10:10] src/tree/updater_prune.cc:74: tree pruning end, 1 roots, 0 extra nodes, 20 pruned nodes, max_depth=0\u001b[0m\n",
      "\u001b[34m[89]#011train-error:0.373981\u001b[0m\n",
      "\u001b[34m[11:10:10] src/tree/updater_prune.cc:74: tree pruning end, 1 roots, 0 extra nodes, 22 pruned nodes, max_depth=0\u001b[0m\n",
      "\u001b[34m[90]#011train-error:0.373981\u001b[0m\n",
      "\u001b[34m[11:10:10] src/tree/updater_prune.cc:74: tree pruning end, 1 roots, 0 extra nodes, 20 pruned nodes, max_depth=0\u001b[0m\n",
      "\u001b[34m[91]#011train-error:0.373981\u001b[0m\n",
      "\u001b[34m[11:10:10] src/tree/updater_prune.cc:74: tree pruning end, 1 roots, 0 extra nodes, 22 pruned nodes, max_depth=0\u001b[0m\n",
      "\u001b[34m[92]#011train-error:0.373981\u001b[0m\n",
      "\u001b[34m[11:10:10] src/tree/updater_prune.cc:74: tree pruning end, 1 roots, 0 extra nodes, 22 pruned nodes, max_depth=0\u001b[0m\n",
      "\u001b[34m[93]#011train-error:0.373981\u001b[0m\n",
      "\u001b[34m[11:10:10] src/tree/updater_prune.cc:74: tree pruning end, 1 roots, 0 extra nodes, 24 pruned nodes, max_depth=0\u001b[0m\n",
      "\u001b[34m[94]#011train-error:0.373981\u001b[0m\n",
      "\u001b[34m[11:10:10] src/tree/updater_prune.cc:74: tree pruning end, 1 roots, 0 extra nodes, 24 pruned nodes, max_depth=0\u001b[0m\n",
      "\u001b[34m[95]#011train-error:0.373981\u001b[0m\n",
      "\u001b[34m[11:10:10] src/tree/updater_prune.cc:74: tree pruning end, 1 roots, 0 extra nodes, 18 pruned nodes, max_depth=0\u001b[0m\n",
      "\u001b[34m[96]#011train-error:0.373981\u001b[0m\n",
      "\u001b[34m[11:10:10] src/tree/updater_prune.cc:74: tree pruning end, 1 roots, 0 extra nodes, 20 pruned nodes, max_depth=0\u001b[0m\n",
      "\u001b[34m[97]#011train-error:0.373981\u001b[0m\n",
      "\u001b[34m[11:10:10] src/tree/updater_prune.cc:74: tree pruning end, 1 roots, 0 extra nodes, 20 pruned nodes, max_depth=0\u001b[0m\n",
      "\u001b[34m[98]#011train-error:0.373981\u001b[0m\n",
      "\u001b[34m[11:10:10] src/tree/updater_prune.cc:74: tree pruning end, 1 roots, 0 extra nodes, 18 pruned nodes, max_depth=0\u001b[0m\n",
      "\u001b[34m[99]#011train-error:0.373981\u001b[0m\n",
      "\n",
      "2021-07-05 11:10:23 Uploading - Uploading generated training model\n",
      "2021-07-05 11:10:23 Completed - Training job completed\n",
      "Training seconds: 83\n",
      "Billable seconds: 83\n"
     ]
    }
   ],
   "source": [
    "xgb.fit({'train': s3_input_train})"
   ]
  },
  {
   "cell_type": "code",
   "execution_count": 38,
   "id": "6d194bd0",
   "metadata": {},
   "outputs": [
    {
     "name": "stdout",
     "output_type": "stream",
     "text": [
      "-------------!"
     ]
    }
   ],
   "source": [
    "xgb_predictor = xgb.deploy(initial_instance_count=1,instance_type='ml.m4.xlarge')"
   ]
  },
  {
   "cell_type": "code",
   "execution_count": 39,
   "id": "174224c9",
   "metadata": {},
   "outputs": [],
   "source": [
    "from sagemaker.serializers import CSVSerializer\n"
   ]
  },
  {
   "cell_type": "code",
   "execution_count": 40,
   "id": "b5158295",
   "metadata": {},
   "outputs": [
    {
     "name": "stdout",
     "output_type": "stream",
     "text": [
      "(648,)\n"
     ]
    }
   ],
   "source": [
    "model_data_array = model_data.drop(['time','N2O'], axis=1).values #load the data into an array\n",
    "xgb_predictor.serializer = CSVSerializer() # set the serializer type\n",
    "predictions2 = xgb_predictor.predict(model_data_array).decode('utf-8') # predict!\n",
    "predictions2_array = np.fromstring(predictions2[1:], sep=',') # and turn the prediction into an array\n",
    "print(predictions2_array.shape)"
   ]
  },
  {
   "cell_type": "code",
   "execution_count": 41,
   "id": "5856bc3c",
   "metadata": {},
   "outputs": [
    {
     "data": {
      "image/png": "[encoded data removed]",
      "text/plain": [
       "<Figure size 432x288 with 1 Axes>"
      ]
     },
     "metadata": {
      "needs_background": "light"
     },
     "output_type": "display_data"
    }
   ],
   "source": [
    "fig2, ax2 = plt.subplots()\n",
    "ax2.plot(model_data['time'], model_data['N2O'], predictions2_array)\n",
    "plt.show()"
   ]
  },
  {
   "cell_type": "code",
   "execution_count": 42,
   "id": "785235eb",
   "metadata": {},
   "outputs": [
    {
     "data": {
      "text/html": [
       "<div>\n",
       "<style scoped>\n",
       "    .dataframe tbody tr th:only-of-type {\n",
       "        vertical-align: middle;\n",
       "    }\n",
       "\n",
       "    .dataframe tbody tr th {\n",
       "        vertical-align: top;\n",
       "    }\n",
       "\n",
       "    .dataframe thead th {\n",
       "        text-align: right;\n",
       "    }\n",
       "</style>\n",
       "<table border=\"1\" class=\"dataframe\">\n",
       "  <thead>\n",
       "    <tr style=\"text-align: right;\">\n",
       "      <th></th>\n",
       "      <th>time</th>\n",
       "      <th>DO</th>\n",
       "      <th>NH4</th>\n",
       "      <th>NO3</th>\n",
       "      <th>N2O</th>\n",
       "      <th>prediction</th>\n",
       "    </tr>\n",
       "  </thead>\n",
       "  <tbody>\n",
       "    <tr>\n",
       "      <th>0</th>\n",
       "      <td>2018-06-08T00:00:00.000Z</td>\n",
       "      <td>0.308</td>\n",
       "      <td>6.984</td>\n",
       "      <td>2.462</td>\n",
       "      <td>0.48</td>\n",
       "      <td>0.449245</td>\n",
       "    </tr>\n",
       "    <tr>\n",
       "      <th>1</th>\n",
       "      <td>2018-06-08T00:15:00.000Z</td>\n",
       "      <td>0.298</td>\n",
       "      <td>7.565</td>\n",
       "      <td>2.623</td>\n",
       "      <td>0.45</td>\n",
       "      <td>0.449245</td>\n",
       "    </tr>\n",
       "    <tr>\n",
       "      <th>2</th>\n",
       "      <td>2018-06-08T00:30:00.000Z</td>\n",
       "      <td>0.210</td>\n",
       "      <td>7.487</td>\n",
       "      <td>2.615</td>\n",
       "      <td>0.46</td>\n",
       "      <td>0.449245</td>\n",
       "    </tr>\n",
       "    <tr>\n",
       "      <th>3</th>\n",
       "      <td>2018-06-08T00:45:00.000Z</td>\n",
       "      <td>0.205</td>\n",
       "      <td>7.902</td>\n",
       "      <td>2.762</td>\n",
       "      <td>0.51</td>\n",
       "      <td>0.449245</td>\n",
       "    </tr>\n",
       "    <tr>\n",
       "      <th>4</th>\n",
       "      <td>2018-06-08T01:00:00.000Z</td>\n",
       "      <td>0.347</td>\n",
       "      <td>7.829</td>\n",
       "      <td>2.762</td>\n",
       "      <td>0.47</td>\n",
       "      <td>0.449245</td>\n",
       "    </tr>\n",
       "  </tbody>\n",
       "</table>\n",
       "</div>"
      ],
      "text/plain": [
       "                       time     DO    NH4    NO3   N2O  prediction\n",
       "0  2018-06-08T00:00:00.000Z  0.308  6.984  2.462  0.48    0.449245\n",
       "1  2018-06-08T00:15:00.000Z  0.298  7.565  2.623  0.45    0.449245\n",
       "2  2018-06-08T00:30:00.000Z  0.210  7.487  2.615  0.46    0.449245\n",
       "3  2018-06-08T00:45:00.000Z  0.205  7.902  2.762  0.51    0.449245\n",
       "4  2018-06-08T01:00:00.000Z  0.347  7.829  2.762  0.47    0.449245"
      ]
     },
     "execution_count": 42,
     "metadata": {},
     "output_type": "execute_result"
    }
   ],
   "source": [
    "processed_data = model_data\n",
    "processed_data['prediction'] = predictions2_array\n",
    "processed_data.head()"
   ]
  },
  {
   "cell_type": "code",
   "execution_count": 43,
   "id": "4772f0f8",
   "metadata": {},
   "outputs": [
    {
     "name": "stdout",
     "output_type": "stream",
     "text": [
      "r2 score for perfect model is 0.7028262756995497\n",
      "r2 score for perfect model is 0.009222349843195124\n"
     ]
    }
   ],
   "source": [
    "## With model trained on full data\n",
    "\n",
    "from sklearn.metrics import r2_score\n",
    "from sklearn.metrics import mean_squared_error\n",
    "\n",
    "processed_data['N2O'] = processed_data['N2O'].fillna(0)\n",
    "predict = processed_data['prediction'].tolist()\n",
    "observed = processed_data['N2O'].tolist()\n",
    "\n",
    "r2 = r2_score(observed, predict)\n",
    "print('r2 score for perfect model is', r2)\n",
    "\n",
    "mse = mean_squared_error(observed, predict)\n",
    "print('r2 score for perfect model is', mse)"
   ]
  },
  {
   "cell_type": "code",
   "execution_count": null,
   "id": "91bdac2e",
   "metadata": {},
   "outputs": [],
   "source": []
  }
 ],
 "metadata": {
  "kernelspec": {
   "display_name": "conda_python3",
   "language": "python",
   "name": "conda_python3"
  },
  "language_info": {
   "codemirror_mode": {
    "name": "ipython",
    "version": 3
   },
   "file_extension": ".py",
   "mimetype": "text/x-python",
   "name": "python",
   "nbconvert_exporter": "python",
   "pygments_lexer": "ipython3",
   "version": "3.6.13"
  }
 },
 "nbformat": 4,
 "nbformat_minor": 5
}
