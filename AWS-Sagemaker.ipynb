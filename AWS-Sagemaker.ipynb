{
 "cells": [
  {
   "cell_type": "code",
   "execution_count": 183,
   "id": "424f183f",
   "metadata": {},
   "outputs": [],
   "source": [
    "#Import modules\n",
    "import pandas as pd\n",
    "import numpy as np\n",
    "import joblib\n",
    "from sklearn.ensemble import RandomForestRegressor\n",
    "from sklearn.metrics import r2_score\n",
    "import pickle\n",
    "import joblib\n",
    "import matplotlib.pyplot as plt\n",
    "from datetime import datetime\n",
    "import boto3\n",
    "from io import BytesIO"
   ]
  },
  {
   "cell_type": "code",
   "execution_count": 184,
   "id": "01a8ba78",
   "metadata": {},
   "outputs": [
    {
     "name": "stdout",
     "output_type": "stream",
     "text": [
      "arn:aws:iam::956662347865:role/service-role/AmazonSageMakerServiceCatalogProductsUseRole\n"
     ]
    }
   ],
   "source": [
    "# Define IAM role\n",
    "role = get_execution_role()\n",
    "print(role)\n",
    "prefix = 'n2oriskdss/mdt'\n",
    "my_region = boto3.session.Session().region_name # set the region of the instance"
   ]
  },
  {
   "cell_type": "code",
   "execution_count": 186,
   "id": "12f89928",
   "metadata": {},
   "outputs": [
    {
     "data": {
      "text/html": [
       "<div>\n",
       "<style scoped>\n",
       "    .dataframe tbody tr th:only-of-type {\n",
       "        vertical-align: middle;\n",
       "    }\n",
       "\n",
       "    .dataframe tbody tr th {\n",
       "        vertical-align: top;\n",
       "    }\n",
       "\n",
       "    .dataframe thead th {\n",
       "        text-align: right;\n",
       "    }\n",
       "</style>\n",
       "<table border=\"1\" class=\"dataframe\">\n",
       "  <thead>\n",
       "    <tr style=\"text-align: right;\">\n",
       "      <th></th>\n",
       "      <th>time</th>\n",
       "      <th>DO</th>\n",
       "      <th>NH4</th>\n",
       "      <th>NO3</th>\n",
       "      <th>N2O</th>\n",
       "    </tr>\n",
       "  </thead>\n",
       "  <tbody>\n",
       "    <tr>\n",
       "      <th>0</th>\n",
       "      <td>2018-06-08T00:00:00.000Z</td>\n",
       "      <td>0.308</td>\n",
       "      <td>6.984</td>\n",
       "      <td>2.462</td>\n",
       "      <td>0.48</td>\n",
       "    </tr>\n",
       "    <tr>\n",
       "      <th>1</th>\n",
       "      <td>2018-06-08T00:15:00.000Z</td>\n",
       "      <td>0.298</td>\n",
       "      <td>7.565</td>\n",
       "      <td>2.623</td>\n",
       "      <td>0.45</td>\n",
       "    </tr>\n",
       "    <tr>\n",
       "      <th>2</th>\n",
       "      <td>2018-06-08T00:30:00.000Z</td>\n",
       "      <td>0.210</td>\n",
       "      <td>7.487</td>\n",
       "      <td>2.615</td>\n",
       "      <td>0.46</td>\n",
       "    </tr>\n",
       "    <tr>\n",
       "      <th>3</th>\n",
       "      <td>2018-06-08T00:45:00.000Z</td>\n",
       "      <td>0.205</td>\n",
       "      <td>7.902</td>\n",
       "      <td>2.762</td>\n",
       "      <td>0.51</td>\n",
       "    </tr>\n",
       "    <tr>\n",
       "      <th>4</th>\n",
       "      <td>2018-06-08T01:00:00.000Z</td>\n",
       "      <td>0.347</td>\n",
       "      <td>7.829</td>\n",
       "      <td>2.762</td>\n",
       "      <td>0.47</td>\n",
       "    </tr>\n",
       "  </tbody>\n",
       "</table>\n",
       "</div>"
      ],
      "text/plain": [
       "                       time     DO    NH4    NO3   N2O\n",
       "0  2018-06-08T00:00:00.000Z  0.308  6.984  2.462  0.48\n",
       "1  2018-06-08T00:15:00.000Z  0.298  7.565  2.623  0.45\n",
       "2  2018-06-08T00:30:00.000Z  0.210  7.487  2.615  0.46\n",
       "3  2018-06-08T00:45:00.000Z  0.205  7.902  2.762  0.51\n",
       "4  2018-06-08T01:00:00.000Z  0.347  7.829  2.762  0.47"
      ]
     },
     "execution_count": 186,
     "metadata": {},
     "output_type": "execute_result"
    }
   ],
   "source": [
    "#get the dataset to train the model\n",
    "path_dataset = 's3://n2oriskdss/mdt/DEMO_prepared.csv' # <<< MODIFY HERE\n",
    "df_read = pd.read_csv(path_dataset)\n",
    "df_read.head()"
   ]
  },
  {
   "cell_type": "code",
   "execution_count": 187,
   "id": "6d82b5b8",
   "metadata": {},
   "outputs": [],
   "source": [
    "#THIS CODE CAN BE USED TO DROP THE PREDICTION COLUMN\n",
    "#df_read.drop('prediction', inplace=True, axis=1)\n",
    "#df_read.head()"
   ]
  },
  {
   "cell_type": "code",
   "execution_count": 191,
   "id": "d59d5fcd",
   "metadata": {},
   "outputs": [],
   "source": [
    "#We separate the train dataset and the test dataset in a ratio 80 % - 20 %\n",
    "train_data, test_data = np.split(df_read.sample(frac=1, random_state=1729), [int(0.8 * len(df_read))])"
   ]
  },
  {
   "cell_type": "code",
   "execution_count": 192,
   "id": "5a0ed9e3",
   "metadata": {},
   "outputs": [],
   "source": [
    "#We define the Random Forest Model\n",
    "clf = RandomForestRegressor(n_estimators=100, random_state=1337, max_depth=12, min_samples_leaf=2, verbose=2)"
   ]
  },
  {
   "cell_type": "code",
   "execution_count": 193,
   "id": "0d780b07",
   "metadata": {},
   "outputs": [],
   "source": [
    "#We define the features\n",
    "data_list = ['NH4', 'NO3', 'DO'] # <<< MODIFY HERE"
   ]
  },
  {
   "cell_type": "code",
   "execution_count": 194,
   "id": "ac4e583d",
   "metadata": {},
   "outputs": [],
   "source": [
    "#We setup the features and the target\n",
    "X_train = train_data.loc[:, data_list]\n",
    "X_test = test_data.loc[:, data_list]\n",
    "y_train = np.array(train_data['N2O'])\n",
    "y_test = np.array(test_data['N2O'])"
   ]
  },
  {
   "cell_type": "code",
   "execution_count": 195,
   "id": "4eabd7ca",
   "metadata": {},
   "outputs": [
    {
     "name": "stdout",
     "output_type": "stream",
     "text": [
      "building tree 1 of 100\n",
      "building tree 2 of 100\n",
      "building tree 3 of 100\n",
      "building tree 4 of 100\n",
      "building tree 5 of 100\n",
      "building tree 6 of 100\n",
      "building tree 7 of 100\n",
      "building tree 8 of 100\n",
      "building tree 9 of 100\n",
      "building tree 10 of 100\n",
      "building tree 11 of 100\n",
      "building tree 12 of 100\n",
      "building tree 13 of 100\n",
      "building tree 14 of 100\n",
      "building tree 15 of 100\n",
      "building tree 16 of 100\n",
      "building tree 17 of 100\n",
      "building tree 18 of 100\n",
      "building tree 19 of 100\n",
      "building tree 20 of 100\n",
      "building tree 21 of 100\n",
      "building tree 22 of 100\n",
      "building tree 23 of 100\n",
      "building tree 24 of 100\n",
      "building tree 25 of 100\n",
      "building tree 26 of 100\n",
      "building tree 27 of 100\n",
      "building tree 28 of 100\n",
      "building tree 29 of 100\n",
      "building tree 30 of 100\n",
      "building tree 31 of 100\n",
      "building tree 32 of 100\n",
      "building tree 33 of 100\n",
      "building tree 34 of 100\n",
      "building tree 35 of 100\n",
      "building tree 36 of 100\n",
      "building tree 37 of 100\n",
      "building tree 38 of 100\n",
      "building tree 39 of 100\n",
      "building tree 40 of 100\n",
      "building tree 41 of 100\n",
      "building tree 42 of 100\n",
      "building tree 43 of 100\n",
      "building tree 44 of 100\n",
      "building tree 45 of 100\n",
      "building tree 46 of 100\n",
      "building tree 47 of 100\n",
      "building tree 48 of 100\n",
      "building tree 49 of 100\n",
      "building tree 50 of 100\n",
      "building tree 51 of 100\n",
      "building tree 52 of 100\n",
      "building tree 53 of 100\n",
      "building tree 54 of 100\n",
      "building tree 55 of 100\n",
      "building tree 56 of 100\n",
      "building tree 57 of 100\n",
      "building tree 58 of 100\n",
      "building tree 59 of 100\n",
      "building tree 60 of 100\n",
      "building tree 61 of 100\n",
      "building tree 62 of 100\n",
      "building tree 63 of 100\n",
      "building tree 64 of 100\n",
      "building tree 65 of 100\n",
      "building tree 66 of 100\n",
      "building tree 67 of 100\n",
      "building tree 68 of 100\n",
      "building tree 69 of 100\n",
      "building tree 70 of 100\n",
      "building tree 71 of 100\n",
      "building tree 72 of 100\n",
      "building tree 73 of 100\n",
      "building tree 74 of 100\n",
      "building tree 75 of 100\n",
      "building tree 76 of 100\n",
      "building tree 77 of 100\n",
      "building tree 78 of 100\n",
      "building tree 79 of 100\n",
      "building tree 80 of 100\n",
      "building tree 81 of 100\n",
      "building tree 82 of 100\n",
      "building tree 83 of 100\n",
      "building tree 84 of 100\n",
      "building tree 85 of 100\n",
      "building tree 86 of 100\n",
      "building tree 87 of 100\n",
      "building tree 88 of 100\n",
      "building tree 89 of 100\n",
      "building tree 90 of 100\n",
      "building tree 91 of 100\n",
      "building tree 92 of 100\n",
      "building tree 93 of 100\n",
      "building tree 94 of 100\n",
      "building tree 95 of 100\n",
      "building tree 96 of 100\n",
      "building tree 97 of 100\n",
      "building tree 98 of 100\n",
      "building tree 99 of 100\n",
      "building tree 100 of 100\n"
     ]
    },
    {
     "name": "stderr",
     "output_type": "stream",
     "text": [
      "[Parallel(n_jobs=1)]: Using backend SequentialBackend with 1 concurrent workers.\n",
      "[Parallel(n_jobs=1)]: Done   1 out of   1 | elapsed:    0.0s remaining:    0.0s\n",
      "[Parallel(n_jobs=1)]: Done 100 out of 100 | elapsed:    0.2s finished\n",
      "[Parallel(n_jobs=1)]: Using backend SequentialBackend with 1 concurrent workers.\n",
      "[Parallel(n_jobs=1)]: Done   1 out of   1 | elapsed:    0.0s remaining:    0.0s\n",
      "[Parallel(n_jobs=1)]: Done 100 out of 100 | elapsed:    0.0s finished\n"
     ]
    }
   ],
   "source": [
    "#We train the model, get prediction on the test and get r2 score from the test\n",
    "clf.fit(X_train, y_train)\n",
    "predictions = clf.predict(X_test)\n",
    "r2 = r2_score(y_test.tolist(), predictions.tolist())"
   ]
  },
  {
   "cell_type": "code",
   "execution_count": 197,
   "id": "9de5ef72",
   "metadata": {},
   "outputs": [
    {
     "name": "stdout",
     "output_type": "stream",
     "text": [
      "the r2 score is 0.7473146868032282\n",
      "NH4 importance is 29.12760924824682 %\n",
      "NO3 importance is 24.28282835799338 %\n",
      "DO importance is 46.5895623937598 %\n"
     ]
    }
   ],
   "source": [
    "#We get information from the modeling\n",
    "print('the r2 score is', r2)\n",
    "print(X_train.columns[0], 'importance is',clf.feature_importances_[0]*100, '%')\n",
    "print(X_train.columns[1], 'importance is',clf.feature_importances_[1]*100, '%')\n",
    "print(X_train.columns[2], 'importance is',clf.feature_importances_[2]*100, '%')"
   ]
  },
  {
   "cell_type": "code",
   "execution_count": 198,
   "id": "84b32c1b",
   "metadata": {},
   "outputs": [
    {
     "name": "stderr",
     "output_type": "stream",
     "text": [
      "[Parallel(n_jobs=1)]: Using backend SequentialBackend with 1 concurrent workers.\n",
      "[Parallel(n_jobs=1)]: Done   1 out of   1 | elapsed:    0.0s remaining:    0.0s\n",
      "[Parallel(n_jobs=1)]: Done 100 out of 100 | elapsed:    0.0s finished\n"
     ]
    }
   ],
   "source": [
    "#We apply the model to the full dataset\n",
    "X = df_read.loc[:, data_list]\n",
    "predictions = clf.predict(X)\n",
    "df_read['prediction'] = predictions"
   ]
  },
  {
   "cell_type": "code",
   "execution_count": 203,
   "id": "259e9030",
   "metadata": {},
   "outputs": [
    {
     "data": {
      "image/png": "[encoded data removed]",
      "text/plain": [
       "<Figure size 432x288 with 1 Axes>"
      ]
     },
     "metadata": {
      "needs_background": "light"
     },
     "output_type": "display_data"
    }
   ],
   "source": [
    "#We plot the result\n",
    "plt.plot(df_read['time'], df_read['N2O'], df_read['time'], df_read['prediction'])\n",
    "plt.title('Amsterdam')\n",
    "plt.legend([\"measured\", \"predicted\"], loc=\"lower right\")\n",
    "plt.show()"
   ]
  },
  {
   "cell_type": "code",
   "execution_count": 182,
   "id": "6b52dea5",
   "metadata": {},
   "outputs": [],
   "source": [
    "#We save the model into the s3 bucket\n",
    "path = 's3://n2oriskdss/mdt/AMS_[NH4-NO3-DO].sav'\n",
    "s3_bucket, s3_key = path.split('/')[2], path.split('/')[3:]\n",
    "s3_key = '/'.join(s3_key)\n",
    "with BytesIO() as f:\n",
    "    joblib.dump(clf, f)\n",
    "    f.seek(0)\n",
    "    boto3.client(\"s3\").upload_fileobj(Bucket=s3_bucket, Key=s3_key, Fileobj=f)"
   ]
  },
  {
   "cell_type": "code",
   "execution_count": 141,
   "id": "46739c37",
   "metadata": {},
   "outputs": [],
   "source": []
  },
  {
   "cell_type": "code",
   "execution_count": 153,
   "id": "987d18c6",
   "metadata": {},
   "outputs": [],
   "source": [
    "#THIS CODE CAN BE USED TO SAVE A CSV FILE IN A S3 BUCKET\n",
    "#df_read.to_csv('s3://n2oriskdss/mdt/test.csv', index=False)"
   ]
  },
  {
   "cell_type": "code",
   "execution_count": 152,
   "id": "afefdb62",
   "metadata": {},
   "outputs": [],
   "source": [
    "#THIS CODE CAN BE USED TO LOAD A MODEL FROM A S3 BUCKET\n",
    "#filename = 's3://n2oriskdss/mdt/AMS_[NH4-NO3-DO].sav'\n",
    "#s3_bucket, s3_key = filename.split('/')[2], filename.split('/')[3:]\n",
    "#s3_key = '/'.join(s3_key)\n",
    "#with BytesIO() as f:\n",
    "#    boto3.client(\"s3\").download_fileobj(Bucket=s3_bucket, Key=s3_key, Fileobj=f)\n",
    "#    f.seek(0)\n",
    "#    loaded_model = joblib.load(f)"
   ]
  },
  {
   "cell_type": "code",
   "execution_count": 151,
   "id": "96655c23",
   "metadata": {},
   "outputs": [],
   "source": []
  },
  {
   "cell_type": "code",
   "execution_count": null,
   "id": "9c0d616f",
   "metadata": {},
   "outputs": [],
   "source": []
  },
  {
   "cell_type": "code",
   "execution_count": null,
   "id": "676483e0",
   "metadata": {},
   "outputs": [],
   "source": []
  },
  {
   "cell_type": "code",
   "execution_count": null,
   "id": "12af4785",
   "metadata": {},
   "outputs": [],
   "source": []
  }
 ],
 "metadata": {
  "kernelspec": {
   "display_name": "conda_python3",
   "language": "python",
   "name": "conda_python3"
  },
  "language_info": {
   "codemirror_mode": {
    "name": "ipython",
    "version": 3
   },
   "file_extension": ".py",
   "mimetype": "text/x-python",
   "name": "python",
   "nbconvert_exporter": "python",
   "pygments_lexer": "ipython3",
   "version": "3.6.13"
  }
 },
 "nbformat": 4,
 "nbformat_minor": 5
}
